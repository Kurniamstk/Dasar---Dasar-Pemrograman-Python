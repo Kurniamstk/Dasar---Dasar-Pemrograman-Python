{
  "nbformat": 4,
  "nbformat_minor": 0,
  "metadata": {
    "colab": {
      "provenance": []
    },
    "kernelspec": {
      "name": "python3",
      "display_name": "Python 3"
    },
    "language_info": {
      "name": "python"
    }
  },
  "cells": [
    {
      "cell_type": "markdown",
      "source": [
        "# **Variable**"
      ],
      "metadata": {
        "id": "mKvHhrl0e7lK"
      }
    },
    {
      "cell_type": "markdown",
      "source": [
        "Variabel merupakan suatu tempat untuk menyimpan data dengan tipe data apapun. Sifatnya case sensitive. Tipe data dasar yaitu integer, float, boolean, dan string.\n",
        "\n",
        "Integer : Bilangan bulat (0,1,2..)\n",
        "\n",
        "Float : Berupa bilangan real (desimal)\n",
        "\n",
        "Bolean : Logical (True dan false)\n",
        "\n",
        "String : Kumpulan dari beberapa karakter"
      ],
      "metadata": {
        "id": "kJBaBkS-fAzw"
      }
    },
    {
      "cell_type": "code",
      "source": [
        "answer = 45 #integer \n",
        "\n",
        "is_it_thursday = True #boolean \n",
        "is_it_thursday = False #boolean \n",
        "\n",
        "pi_approx = 3.14 #float (konstanta)\n",
        "\n",
        "my_name = \"Tita\" #string"
      ],
      "metadata": {
        "id": "v3mESpkugbg4"
      },
      "execution_count": null,
      "outputs": []
    },
    {
      "cell_type": "code",
      "source": [
        "#cara untuk menampilkan variabel \n",
        "print(answer)\n",
        "print (my_name)\n",
        "\n",
        "#cara mengecek tipe dara dari variabel kita \n",
        "x = 4.5 \n",
        "print(type(x))"
      ],
      "metadata": {
        "colab": {
          "base_uri": "https://localhost:8080/"
        },
        "id": "8SafIvp3g53G",
        "outputId": "4e146b27-efb3-4ba5-8dbf-468f0af95345"
      },
      "execution_count": 2,
      "outputs": [
        {
          "output_type": "stream",
          "name": "stdout",
          "text": [
            "<class 'float'>\n"
          ]
        }
      ]
    },
    {
      "cell_type": "markdown",
      "source": [
        "# **Lists**"
      ],
      "metadata": {
        "id": "0zXg1JNehZsL"
      }
    },
    {
      "cell_type": "markdown",
      "source": [
        "**Lists** adalah koleksi yang dipesan dan dapat diubah. Mengizinkan anggota duplikat. \n",
        "\n",
        "Intinya : Kumpulan dari elemen - elemen. Tipe Datanya bisa campur. Ditampilkan secara berurutan. Boleh ada duplicate member/element. "
      ],
      "metadata": {
        "id": "-ylQCUQvhl0T"
      }
    },
    {
      "cell_type": "code",
      "source": [
        "my_list = [\"banana\", \"tomato\", 34, 5]"
      ],
      "metadata": {
        "id": "CHOlaH_UiTDp"
      },
      "execution_count": 25,
      "outputs": []
    },
    {
      "cell_type": "markdown",
      "source": [
        "**Akses elemen List dan ganti**"
      ],
      "metadata": {
        "id": "cMAeGsW3im9a"
      }
    },
    {
      "cell_type": "code",
      "source": [
        "print (my_list)"
      ],
      "metadata": {
        "colab": {
          "base_uri": "https://localhost:8080/"
        },
        "id": "pl8kb8okjBQL",
        "outputId": "00725f3f-2336-477d-ffc1-99cabadbcf96"
      },
      "execution_count": 26,
      "outputs": [
        {
          "output_type": "stream",
          "name": "stdout",
          "text": [
            "['banana', 'tomato', 34, 5]\n"
          ]
        }
      ]
    },
    {
      "cell_type": "markdown",
      "source": [
        "Jika ingin menampilkan salah satunya tinggal tambahkan indexnya. Index tidak hanya bisa positif tapi juga bisa negatif. Negatif tandanya dihitung dari belakang. "
      ],
      "metadata": {
        "id": "qfh6BXzbjR4Y"
      }
    },
    {
      "cell_type": "code",
      "source": [
        "print(my_list [1])"
      ],
      "metadata": {
        "colab": {
          "base_uri": "https://localhost:8080/"
        },
        "id": "Qe4aKqlnjWNS",
        "outputId": "9380ab48-cfa7-450f-f30c-842695d8527e"
      },
      "execution_count": 27,
      "outputs": [
        {
          "output_type": "stream",
          "name": "stdout",
          "text": [
            "tomato\n"
          ]
        }
      ]
    },
    {
      "cell_type": "code",
      "source": [
        "print (my_list [-1])"
      ],
      "metadata": {
        "colab": {
          "base_uri": "https://localhost:8080/"
        },
        "id": "FdTktVaOjwuq",
        "outputId": "7a37229d-4a7b-4aaa-b1d9-9f633db974d6"
      },
      "execution_count": 8,
      "outputs": [
        {
          "output_type": "stream",
          "name": "stdout",
          "text": [
            "5\n"
          ]
        }
      ]
    },
    {
      "cell_type": "markdown",
      "source": [
        "Mencantumkan akses dan penggantian elemen"
      ],
      "metadata": {
        "id": "97RD_sOskOwN"
      }
    },
    {
      "cell_type": "code",
      "source": [
        "my_list [1] = \"Tita\"\n",
        "print(my_list)"
      ],
      "metadata": {
        "colab": {
          "base_uri": "https://localhost:8080/"
        },
        "id": "liGkhDockYd2",
        "outputId": "82aaf8a3-50b5-492e-ed7f-77ad241ef124"
      },
      "execution_count": 9,
      "outputs": [
        {
          "output_type": "stream",
          "name": "stdout",
          "text": [
            "['banana', 'Tita', 34, 5]\n"
          ]
        }
      ]
    },
    {
      "cell_type": "markdown",
      "source": [
        "**Lists** memiliki ukuran yang dinamis dan elemen dapat ditambahkan (disisipkan) ke dalamnya. Bisa menggunakan Inset dan Append. \n",
        "\n",
        "**Insert** : Spesifik.\n",
        "\n",
        "**Append** : Otomatis menambahkan elemen setelah elemen paling akhir."
      ],
      "metadata": {
        "id": "F_i0Dwqej_BQ"
      }
    },
    {
      "cell_type": "code",
      "source": [
        "#my_list.insert(index yang mau di insert, elementnya apa)\n",
        "\n",
        "my_list.insert(1, \"Titu\")\n",
        "print (my_list)"
      ],
      "metadata": {
        "colab": {
          "base_uri": "https://localhost:8080/"
        },
        "id": "OCTaoSWykB83",
        "outputId": "11685390-58c6-4a6a-ac3c-1d16e1b62840"
      },
      "execution_count": 29,
      "outputs": [
        {
          "output_type": "stream",
          "name": "stdout",
          "text": [
            "['banana', 'Titu', 'tomato', 34, 5]\n"
          ]
        }
      ]
    },
    {
      "cell_type": "code",
      "source": [
        "#my_list.append(mau ditambah element apa dipaling akhir)\n",
        "\n",
        "my_list.append(3)\n",
        "print (my_list)"
      ],
      "metadata": {
        "colab": {
          "base_uri": "https://localhost:8080/"
        },
        "id": "NKJldgVYllBS",
        "outputId": "db52ac87-9ed4-4a38-ab2a-6587fe426e97"
      },
      "execution_count": 13,
      "outputs": [
        {
          "output_type": "stream",
          "name": "stdout",
          "text": [
            "['banana', 'Titu', 'Titu', 'Tita', 'Tita', 34, 5, 3]\n"
          ]
        }
      ]
    },
    {
      "cell_type": "markdown",
      "source": [
        "## **Remove List ELements**"
      ],
      "metadata": {
        "id": "WZw_H6uWl5dw"
      }
    },
    {
      "cell_type": "markdown",
      "source": [
        "1. my_list.remove(element mana yang mau di remove)\n",
        "2. my_list.pop(index element mana yang mau dihapus)\n",
        "3. del my_list = bisa based on index atau menghapus semua list \n",
        "4. my_list.clear() : untuk menghapus semua list. Variabelnya masih ada tapi elemennya nggk ada "
      ],
      "metadata": {
        "id": "t2TvWj-smma2"
      }
    },
    {
      "cell_type": "code",
      "source": [
        "#my_list.remove(element mana yang mau di remove)\n",
        "my_list.remove (\"Titu\")\n",
        "print(my_list)"
      ],
      "metadata": {
        "colab": {
          "base_uri": "https://localhost:8080/"
        },
        "id": "ENSK3zIImMWG",
        "outputId": "32414bf6-f59f-49fa-a40f-3fa297b42ce3"
      },
      "execution_count": 30,
      "outputs": [
        {
          "output_type": "stream",
          "name": "stdout",
          "text": [
            "['banana', 'tomato', 34, 5]\n"
          ]
        }
      ]
    },
    {
      "cell_type": "code",
      "source": [
        "#my_list.pop(index element mana yang mau dihapus\n",
        "my_list.pop (1)\n",
        "print(my_list)"
      ],
      "metadata": {
        "colab": {
          "base_uri": "https://localhost:8080/"
        },
        "id": "UsKf7SzOm2Du",
        "outputId": "9b3223eb-1e3b-447a-f2c4-3dca08eaf604"
      },
      "execution_count": 15,
      "outputs": [
        {
          "output_type": "stream",
          "name": "stdout",
          "text": [
            "['banana', 'Tita', 'Tita', 34, 5, 3]\n"
          ]
        }
      ]
    },
    {
      "cell_type": "code",
      "source": [
        "#del my_list = based on index \n",
        "del my_list [2]\n",
        "print (my_list)"
      ],
      "metadata": {
        "colab": {
          "base_uri": "https://localhost:8080/"
        },
        "id": "OXvkb83ynNOc",
        "outputId": "599ba386-e4cf-49bb-c148-f33896890ca9"
      },
      "execution_count": 16,
      "outputs": [
        {
          "output_type": "stream",
          "name": "stdout",
          "text": [
            "['banana', 'Tita', 34, 5, 3]\n"
          ]
        }
      ]
    },
    {
      "cell_type": "code",
      "source": [
        "#del my_list =  menghapus semua list (Menghapus keseluruhan sampai tidak bisa terdefinisi lagi)\n",
        "del my_list \n",
        "print(my_list)\n",
        "\n",
        "#hasil running akan eror karena datanya emang nggk ada sudah terhapus "
      ],
      "metadata": {
        "id": "RnLkFjHBnoCD"
      },
      "execution_count": 19,
      "outputs": []
    },
    {
      "cell_type": "markdown",
      "source": [
        "kita dapat mengakses **\"irisan\"** dari sebuah daftar menggunakan **my_list[i:j]** di mana **i** adalah awal irisan (Sekali lagi, pengindeksan dimulai dari 0) dan **j** adalah akhir irisan. Sebagai contoh : "
      ],
      "metadata": {
        "id": "hOdyb0ZDopM6"
      }
    },
    {
      "cell_type": "code",
      "source": [
        "my_list[1:3]"
      ],
      "metadata": {
        "colab": {
          "base_uri": "https://localhost:8080/"
        },
        "id": "BnCHyTD2pNMB",
        "outputId": "cebaeadc-89e8-424a-ad09-b31359fe61b3"
      },
      "execution_count": 31,
      "outputs": [
        {
          "output_type": "execute_result",
          "data": {
            "text/plain": [
              "['tomato', 34]"
            ]
          },
          "metadata": {},
          "execution_count": 31
        }
      ]
    },
    {
      "cell_type": "markdown",
      "source": [
        "Menghilangkan indeks kedua berarti irisan harus berjalan sampai akhir daftar"
      ],
      "metadata": {
        "id": "kP1PAZQrpW43"
      }
    },
    {
      "cell_type": "code",
      "source": [
        "my_list[1:]"
      ],
      "metadata": {
        "colab": {
          "base_uri": "https://localhost:8080/"
        },
        "id": "eP1nvHg6p56j",
        "outputId": "43024ffb-e666-47b4-8fb6-8ac6241e9431"
      },
      "execution_count": 33,
      "outputs": [
        {
          "output_type": "execute_result",
          "data": {
            "text/plain": [
              "['tomato', 34, 5]"
            ]
          },
          "metadata": {},
          "execution_count": 33
        }
      ]
    },
    {
      "cell_type": "markdown",
      "source": [
        "kita dapat memeriksa apakah sebuah elemen ada di dalam daftar dengan menggunakan **in**"
      ],
      "metadata": {
        "id": "lUAI49tTqMDK"
      }
    },
    {
      "cell_type": "code",
      "source": [
        "5 in my_list"
      ],
      "metadata": {
        "colab": {
          "base_uri": "https://localhost:8080/"
        },
        "id": "df2jEQclqUFR",
        "outputId": "cba2b836-93b5-4121-e68d-ffc8c742922c"
      },
      "execution_count": 34,
      "outputs": [
        {
          "output_type": "execute_result",
          "data": {
            "text/plain": [
              "True"
            ]
          },
          "metadata": {},
          "execution_count": 34
        }
      ]
    },
    {
      "cell_type": "markdown",
      "source": [
        "Panjang daftar dapat diperoleh dengan menggunakan fungsi **len**"
      ],
      "metadata": {
        "id": "o_Sa1psbqaxq"
      }
    },
    {
      "cell_type": "code",
      "source": [
        "len(my_list) #banyaknya elemen"
      ],
      "metadata": {
        "colab": {
          "base_uri": "https://localhost:8080/"
        },
        "id": "XlWNz1gXqjh_",
        "outputId": "c9352e53-ca35-417b-e0af-a39d1eefe560"
      },
      "execution_count": 35,
      "outputs": [
        {
          "output_type": "execute_result",
          "data": {
            "text/plain": [
              "4"
            ]
          },
          "metadata": {},
          "execution_count": 35
        }
      ]
    },
    {
      "cell_type": "markdown",
      "source": [
        "# **TUPLE**"
      ],
      "metadata": {
        "id": "LXDQLqglqxOc"
      }
    },
    {
      "cell_type": "markdown",
      "source": [
        "**Tuple** adalah sebuah koleksi yang terurut dan **tidak dapat diubah**. Memungkinkan anggota duplikat."
      ],
      "metadata": {
        "id": "LsXVt7gtq72H"
      }
    },
    {
      "cell_type": "code",
      "source": [
        "thistuple = (\"apple\", \"banana\", \"cherry\")"
      ],
      "metadata": {
        "id": "qbC5FBp4rM6H"
      },
      "execution_count": 39,
      "outputs": []
    },
    {
      "cell_type": "markdown",
      "source": [
        "Cara untuk mengupdate adalah dengan mengubah tuple ke lists "
      ],
      "metadata": {
        "id": "5s24CWiSsTTO"
      }
    },
    {
      "cell_type": "code",
      "source": [
        "#membuat variabel baru \n",
        "y = list(thistuple)\n",
        "y [1] = \"Orange\"\n",
        "thistupple = tuple(y)\n",
        "print(thistuple)"
      ],
      "metadata": {
        "colab": {
          "base_uri": "https://localhost:8080/"
        },
        "id": "kiNBGUdksEkj",
        "outputId": "c32e0b7b-1066-413d-8c8f-2bdd01c7d62f"
      },
      "execution_count": 47,
      "outputs": [
        {
          "output_type": "stream",
          "name": "stdout",
          "text": [
            "['apple', 'Orange', 'cherry']\n"
          ]
        }
      ]
    },
    {
      "cell_type": "markdown",
      "source": [
        "# **Strings**"
      ],
      "metadata": {
        "id": "e_XRwdQHuU2y"
      }
    },
    {
      "cell_type": "markdown",
      "source": [
        "**Strings** adalah kumpulan dari karakter. **String** digunakan untuk menyimpan teks. Mereka dapat dibatasi dengan menggunakan tanda kutip tunggal atau tanda kutip ganda. String bisa dimanipulasi/dioperasikan seperti tipe data yang lain. String bisa di gabungkan.  "
      ],
      "metadata": {
        "id": "K4fQQKCQuZjI"
      }
    },
    {
      "cell_type": "code",
      "source": [
        "String1 = 'some text'\n",
        "String2 = 'some other text'"
      ],
      "metadata": {
        "id": "71X-neDGuqPv"
      },
      "execution_count": 50,
      "outputs": []
    },
    {
      "cell_type": "markdown",
      "source": [
        " **String** berperilaku mirip dengan **list**. Dengan demikian, kita dapat mengakses setiap elemen dengan cara yang sama persis. "
      ],
      "metadata": {
        "id": "33-xLI2JvJDn"
      }
    },
    {
      "cell_type": "code",
      "source": [
        "String1[4]"
      ],
      "metadata": {
        "colab": {
          "base_uri": "https://localhost:8080/",
          "height": 36
        },
        "id": "JbjnxlVuvgtb",
        "outputId": "e29dbf6d-82f7-4885-b6a9-ad568a952569"
      },
      "execution_count": 51,
      "outputs": [
        {
          "output_type": "execute_result",
          "data": {
            "text/plain": [
              "' '"
            ],
            "application/vnd.google.colaboratory.intrinsic+json": {
              "type": "string"
            }
          },
          "metadata": {},
          "execution_count": 51
        }
      ]
    },
    {
      "cell_type": "markdown",
      "source": [
        "dan juga untuk irisan "
      ],
      "metadata": {
        "id": "PUwKUzuxvowa"
      }
    },
    {
      "cell_type": "code",
      "source": [
        "String1 [5:7]"
      ],
      "metadata": {
        "colab": {
          "base_uri": "https://localhost:8080/",
          "height": 36
        },
        "id": "gcBtt6bvvwbN",
        "outputId": "14eef459-685c-4b49-be75-ffd19ada2330"
      },
      "execution_count": 52,
      "outputs": [
        {
          "output_type": "execute_result",
          "data": {
            "text/plain": [
              "'te'"
            ],
            "application/vnd.google.colaboratory.intrinsic+json": {
              "type": "string"
            }
          },
          "metadata": {},
          "execution_count": 52
        }
      ]
    },
    {
      "cell_type": "markdown",
      "source": [
        "Penggabungan string dilakukan dengan menggunakan operator **+**"
      ],
      "metadata": {
        "id": "cKspU7FLwwA8"
      }
    },
    {
      "cell_type": "code",
      "source": [
        "String1 + \" \" + String2"
      ],
      "metadata": {
        "colab": {
          "base_uri": "https://localhost:8080/",
          "height": 36
        },
        "id": "hyB-O8CfwyPs",
        "outputId": "6901fc66-b48d-43dd-c987-fedaf3460cf5"
      },
      "execution_count": 53,
      "outputs": [
        {
          "output_type": "execute_result",
          "data": {
            "text/plain": [
              "'some text some other text'"
            ],
            "application/vnd.google.colaboratory.intrinsic+json": {
              "type": "string"
            }
          },
          "metadata": {},
          "execution_count": 53
        }
      ]
    },
    {
      "cell_type": "code",
      "source": [
        "String1 + String2"
      ],
      "metadata": {
        "colab": {
          "base_uri": "https://localhost:8080/",
          "height": 36
        },
        "id": "zI675Ahgw_to",
        "outputId": "4c7d5f42-a2bf-471e-c7a4-2469b8138eb0"
      },
      "execution_count": 54,
      "outputs": [
        {
          "output_type": "execute_result",
          "data": {
            "text/plain": [
              "'some textsome other text'"
            ],
            "application/vnd.google.colaboratory.intrinsic+json": {
              "type": "string"
            }
          },
          "metadata": {},
          "execution_count": 54
        }
      ]
    },
    {
      "cell_type": "markdown",
      "source": [
        "# **Operasi Aritmatika**"
      ],
      "metadata": {
        "id": "b95lXp4MxDwR"
      }
    },
    {
      "cell_type": "markdown",
      "source": [
        "Python mendukung operator aritmatika biasa: + (penjumlahan), * (perkalian), / (pembagian), ** (pangkat), // (pembagian bilangan bulat).\n",
        "Regular Division (/ pembagian) : hasil sesuai \n",
        "Integer Division (// pembagian) : hasilnya akan dibulatkan "
      ],
      "metadata": {
        "id": "eNjYp9OyxMCF"
      }
    },
    {
      "cell_type": "markdown",
      "source": [
        "1. Operator Perbandingan\n",
        " >,<, == (setara), >=, <=\n",
        "\n",
        "2. Operator Logical\n",
        "  \n",
        "       and or not != \n",
        "\n",
        "3. Assigment Operator \n",
        "\n",
        "    += : +=1 (i = i+1)\n",
        "    -= : -=1 (i = i-1)"
      ],
      "metadata": {
        "id": "woFeAOSWyZ0-"
      }
    },
    {
      "cell_type": "code",
      "source": [
        "num1 = input('angka pertama = ')\n",
        "num2 = input('angka kedua = ')"
      ],
      "metadata": {
        "colab": {
          "base_uri": "https://localhost:8080/"
        },
        "id": "KnGR3tSHxgpW",
        "outputId": "a16a7222-79e0-4828-efd6-fb5ae11fd595"
      },
      "execution_count": 56,
      "outputs": [
        {
          "name": "stdout",
          "output_type": "stream",
          "text": [
            "angka pertama = 5\n",
            "angka kedua = 2\n"
          ]
        }
      ]
    },
    {
      "cell_type": "code",
      "source": [
        "#operasi penjumlahan \n",
        "sum = int(num1) + int(num2)\n",
        "print(sum)\n",
        "#f strings digunakan untuk menyematkan variabel ke dalam string "
      ],
      "metadata": {
        "colab": {
          "base_uri": "https://localhost:8080/"
        },
        "id": "VztbrxVzzYou",
        "outputId": "b45f68b1-faef-4641-d039-3d55f0c467ad"
      },
      "execution_count": 59,
      "outputs": [
        {
          "output_type": "stream",
          "name": "stdout",
          "text": [
            "7\n"
          ]
        }
      ]
    },
    {
      "cell_type": "code",
      "source": [
        "#jika ingin menampilan num1 dan num2 dalam display \n",
        "sum = int(num1) + int(num2)\n",
        "print(f'Hasil {num1} + {num2} = {sum}')"
      ],
      "metadata": {
        "colab": {
          "base_uri": "https://localhost:8080/"
        },
        "id": "hWnY2isfz3qi",
        "outputId": "5353d69b-8d86-4a05-c63a-3433ae8baa16"
      },
      "execution_count": 60,
      "outputs": [
        {
          "output_type": "stream",
          "name": "stdout",
          "text": [
            "Hasil 5 + 2 = 7\n"
          ]
        }
      ]
    },
    {
      "cell_type": "code",
      "source": [
        "#Operasi pengurangan \n",
        "sum = int(num1) - int(num2)\n",
        "print(sum)"
      ],
      "metadata": {
        "colab": {
          "base_uri": "https://localhost:8080/"
        },
        "id": "33abdidH0WVQ",
        "outputId": "24fb28fe-ebe5-456f-c79c-f4623cbc26c7"
      },
      "execution_count": 61,
      "outputs": [
        {
          "output_type": "stream",
          "name": "stdout",
          "text": [
            "3\n"
          ]
        }
      ]
    },
    {
      "cell_type": "code",
      "source": [
        "#Operasi Perkalian \n",
        "sum = int(num1) * int(num2)\n",
        "print(sum)"
      ],
      "metadata": {
        "colab": {
          "base_uri": "https://localhost:8080/"
        },
        "id": "HuiJmEH10i1F",
        "outputId": "22b08ffe-c2ad-4297-b0bf-0dc0470be395"
      },
      "execution_count": 62,
      "outputs": [
        {
          "output_type": "stream",
          "name": "stdout",
          "text": [
            "10\n"
          ]
        }
      ]
    },
    {
      "cell_type": "code",
      "source": [
        "#Operasi Perpangkatan \n",
        "pow = int(num1) ** int(num2)\n",
        "print(sum)"
      ],
      "metadata": {
        "colab": {
          "base_uri": "https://localhost:8080/"
        },
        "id": "IqFIroe30olK",
        "outputId": "5b03e9ae-79e6-482f-c789-5ada510841e3"
      },
      "execution_count": 63,
      "outputs": [
        {
          "output_type": "stream",
          "name": "stdout",
          "text": [
            "25\n"
          ]
        }
      ]
    },
    {
      "cell_type": "code",
      "source": [
        "#Operasi Pembagian\n",
        "div = int(num1) / int(num2)\n",
        "print(sum)"
      ],
      "metadata": {
        "colab": {
          "base_uri": "https://localhost:8080/"
        },
        "id": "7C5mbykX08UP",
        "outputId": "eff87e98-659f-49dc-b87a-53547b1911bc"
      },
      "execution_count": 64,
      "outputs": [
        {
          "output_type": "stream",
          "name": "stdout",
          "text": [
            "2.5\n"
          ]
        }
      ]
    },
    {
      "cell_type": "code",
      "source": [
        "#Operasi Pembagian\n",
        "integer_div = int(num1) // int(num2)\n",
        "print(sum)"
      ],
      "metadata": {
        "colab": {
          "base_uri": "https://localhost:8080/"
        },
        "id": "ctVNg-rS1AnL",
        "outputId": "d993b05a-c975-4dac-87fe-ca7655e8c7f7"
      },
      "execution_count": 65,
      "outputs": [
        {
          "output_type": "stream",
          "name": "stdout",
          "text": [
            "2\n"
          ]
        }
      ]
    },
    {
      "cell_type": "markdown",
      "source": [
        "# **Conditionals**"
      ],
      "metadata": {
        "id": "JRE6XFqH1FFR"
      }
    },
    {
      "cell_type": "markdown",
      "source": [
        "Seperti yang ditunjukkan oleh namanya, **Conditionals** adalah cara untuk mengeksekusi kode tergantung pada apakah suatu kondisi bernilai **True** atau **False**. Seperti dalam bahasa lain, Python mendukung **if** dan **else** but **else if** yang dikontruksikan menjadi **elif**, seperti yang ditunjukkan contoh di bawah ini : "
      ],
      "metadata": {
        "id": "i3F1LGW61NbP"
      }
    },
    {
      "cell_type": "code",
      "source": [
        "my_variable = 5\n",
        "if my_variable < 0:\n",
        "   print(\"negative\")\n",
        "elif my_variable == 0:\n",
        "   print(\"null\")\n",
        "else: #my_variable > 0\n",
        "   print(\"positive\")\n"
      ],
      "metadata": {
        "colab": {
          "base_uri": "https://localhost:8080/"
        },
        "id": "qLxmtdtl1LyJ",
        "outputId": "f788deef-a491-4de1-dcc0-48fac11c6181"
      },
      "execution_count": 70,
      "outputs": [
        {
          "output_type": "stream",
          "name": "stdout",
          "text": [
            "positive\n"
          ]
        }
      ]
    },
    {
      "cell_type": "markdown",
      "source": [
        "Disini **<** dan **>** adalah operator kurang dari dan lebih besar dari, sedangkan **==** adalah operator penyetaraan (jangan disamakan dengan =, operator penugasan variabel). Operator **<=** dan **>=** dapat digunakan untuk perbandingan kurang (resp, lebih besar) dari atau sama dengan. "
      ],
      "metadata": {
        "id": "Iz8OxbPG4KY7"
      }
    },
    {
      "cell_type": "markdown",
      "source": [
        "Berlawanan dengan bahasa lain, blok kode dibatasi dengan menggunakan lekukan. Di sini, kami menggunakan indentasi 2 spasi, tetapi banyak programmer juga menggunakan indentasi 4 spasi. Salah satu dari keduanya tidak masalah selama konsisten di seluruh kode."
      ],
      "metadata": {
        "id": "5vhQNrBu5gAm"
      }
    },
    {
      "cell_type": "code",
      "source": [
        "a = 200\n",
        "b = 33\n",
        "c = 500\n",
        "if a > b or c < a:\n",
        "  print(\"conditions are True\")"
      ],
      "metadata": {
        "colab": {
          "base_uri": "https://localhost:8080/"
        },
        "id": "STEXTGoG5kZi",
        "outputId": "8d7c66eb-27fb-4135-e1b1-dbb500d4ec63"
      },
      "execution_count": 72,
      "outputs": [
        {
          "output_type": "stream",
          "name": "stdout",
          "text": [
            "conditions are True\n"
          ]
        }
      ]
    },
    {
      "cell_type": "markdown",
      "source": [
        "# **LOOPS (Perulangan)**"
      ],
      "metadata": {
        "id": "RFHdupxY6gaf"
      }
    },
    {
      "cell_type": "markdown",
      "source": [
        "**Perulangan** adalah cara untuk mengeksekusi blok kode beberapa kali. Ada dua jenis utama perulangan: **While Loops** dan **For Loops**. "
      ],
      "metadata": {
        "id": "f5SqRtjg6lnL"
      }
    },
    {
      "cell_type": "markdown",
      "source": [
        "## **While Loops**\n",
        "\n",
        "Sudah memasang kondisi lalu dieksekusi"
      ],
      "metadata": {
        "id": "ULnFQgbI7BwL"
      }
    },
    {
      "cell_type": "code",
      "source": [
        "i = 0 \n",
        "while i < len(my_list):\n",
        "  print(my_list[i])\n",
        "  i += 1 #assigment operator equivalent to i = i+1"
      ],
      "metadata": {
        "colab": {
          "base_uri": "https://localhost:8080/"
        },
        "id": "H_rcXmiK7AiT",
        "outputId": "a49580ce-8fad-4cf7-99e7-4c07ff285093"
      },
      "execution_count": 73,
      "outputs": [
        {
          "output_type": "stream",
          "name": "stdout",
          "text": [
            "banana\n",
            "tomato\n",
            "34\n",
            "5\n"
          ]
        }
      ]
    },
    {
      "cell_type": "markdown",
      "source": [
        "## **For Loops**\n",
        "\n",
        "Cara penulisan"
      ],
      "metadata": {
        "id": "MyxGMgbb79Fa"
      }
    },
    {
      "cell_type": "code",
      "source": [
        "for i in range(len(my_list)):\n",
        "  print(my_list[i])"
      ],
      "metadata": {
        "colab": {
          "base_uri": "https://localhost:8080/"
        },
        "id": "OYKP9i8S7U_c",
        "outputId": "1c9bf310-d70b-4cf0-c66f-618f284e96d4"
      },
      "execution_count": 75,
      "outputs": [
        {
          "output_type": "stream",
          "name": "stdout",
          "text": [
            "banana\n",
            "tomato\n",
            "34\n",
            "5\n"
          ]
        }
      ]
    },
    {
      "cell_type": "markdown",
      "source": [
        "Jika tujuannya hanya untuk melek huruf pada sebuah **Lists**, Dapat melakukannya secara langsung sebagai berikut :"
      ],
      "metadata": {
        "id": "TmxfQlQC8i-T"
      }
    },
    {
      "cell_type": "code",
      "source": [
        "for element in my_list:\n",
        "  print(element)"
      ],
      "metadata": {
        "colab": {
          "base_uri": "https://localhost:8080/"
        },
        "id": "vTANQa6X8qve",
        "outputId": "9ab4b078-74e3-49bc-8b72-a78b8f9c0c5f"
      },
      "execution_count": 77,
      "outputs": [
        {
          "output_type": "stream",
          "name": "stdout",
          "text": [
            "banana\n",
            "tomato\n",
            "34\n",
            "5\n"
          ]
        }
      ]
    },
    {
      "cell_type": "code",
      "source": [
        "for x in range(6):\n",
        "  print(x)\n",
        "else :\n",
        "  print (\"Finally finished!\")"
      ],
      "metadata": {
        "colab": {
          "base_uri": "https://localhost:8080/"
        },
        "id": "Jo6CgM0-80hQ",
        "outputId": "ce5d935c-5e2f-49c2-d6f4-aadb65e8cd19"
      },
      "execution_count": 78,
      "outputs": [
        {
          "output_type": "stream",
          "name": "stdout",
          "text": [
            "0\n",
            "1\n",
            "2\n",
            "3\n",
            "4\n",
            "5\n",
            "Finally finished!\n"
          ]
        }
      ]
    },
    {
      "cell_type": "markdown",
      "source": [
        "# **FUNCTIONS**"
      ],
      "metadata": {
        "id": "220ictOy9Err"
      }
    },
    {
      "cell_type": "markdown",
      "source": [
        "Untuk meningkatkan keterbacaan kode adalah hal yang umum untuk memisahkan kode ke dalam blok yang berbeda, yang bertanggung jawab untuk melakukan tindakan yang tepat: fungsi. Sebuah fungsi mengambil beberapa masukan dan memprosesnya untuk menghasilkan beberapa keluaran.\n",
        "\n",
        "Intinya : Blok kode yang akan berjalan ketika fungsinya dipanggil. "
      ],
      "metadata": {
        "id": "Bj5yFnqX9gBB"
      }
    },
    {
      "cell_type": "code",
      "source": [
        "def my_function():\n",
        "  print(\"Hello from a function\")"
      ],
      "metadata": {
        "id": "jd8__Yw_9JM7"
      },
      "execution_count": 79,
      "outputs": []
    },
    {
      "cell_type": "markdown",
      "source": [
        "Cara memanggil function"
      ],
      "metadata": {
        "id": "3aVSTHno-SAi"
      }
    },
    {
      "cell_type": "code",
      "source": [
        "my_function()"
      ],
      "metadata": {
        "colab": {
          "base_uri": "https://localhost:8080/"
        },
        "id": "byAudG30-U0k",
        "outputId": "00cf14cc-3bae-4aa9-8bad-e092edf565e0"
      },
      "execution_count": 80,
      "outputs": [
        {
          "output_type": "stream",
          "name": "stdout",
          "text": [
            "Hello from a function\n"
          ]
        }
      ]
    },
    {
      "cell_type": "code",
      "source": [
        "#Function dengan argument\n",
        "def square(x):\n",
        "  return x ** 2\n",
        "\n",
        "def multiply(a,b):\n",
        "  return a * b\n",
        "\n",
        "  #function can be composed \n",
        "  square(multiply(3,2))"
      ],
      "metadata": {
        "id": "XWzfu6zq-aTz"
      },
      "execution_count": 83,
      "outputs": []
    },
    {
      "cell_type": "markdown",
      "source": [
        "Untuk meningkatkan keterbacaan kode, terkadang berguna untuk menamai argumen secara eksplisit"
      ],
      "metadata": {
        "id": "3IqzJOe3_PF7"
      }
    },
    {
      "cell_type": "code",
      "source": [
        "square(multiply(a=3, b=2))"
      ],
      "metadata": {
        "colab": {
          "base_uri": "https://localhost:8080/"
        },
        "id": "sbQlwfHa_QTG",
        "outputId": "aa359fcc-5564-433a-fbd7-04e45badbe4e"
      },
      "execution_count": 82,
      "outputs": [
        {
          "output_type": "execute_result",
          "data": {
            "text/plain": [
              "36"
            ]
          },
          "metadata": {},
          "execution_count": 82
        }
      ]
    }
  ]
}